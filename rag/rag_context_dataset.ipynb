{
 "cells": [
  {
   "cell_type": "code",
   "execution_count": null,
   "metadata": {},
   "outputs": [],
   "source": [
    "# !pip install -q torch torchvision torchaudio transformers datasets accelerate bitsandbytes langchain sentence-transformers faiss-gpu openpyxl pacmap ragatouille"
   ]
  },
  {
   "cell_type": "code",
   "execution_count": null,
   "metadata": {},
   "outputs": [],
   "source": [
    "# from google.colab import drive\n",
    "# drive.mount('/content/drive')"
   ]
  },
  {
   "cell_type": "code",
   "execution_count": null,
   "metadata": {},
   "outputs": [],
   "source": [
    "# First Part\n",
    "import os\n",
    "import json \n",
    "import re\n",
    "import pickle\n",
    "import jsonlines\n",
    "import random\n",
    "import pandas as pd\n",
    "import numpy as np\n",
    "import matplotlib.pyplot as plt\n",
    "\n",
    "# Second Part\n",
    "import torch\n",
    "from tqdm import tqdm\n",
    "from typing import Optional, List, Tuple\n",
    "from langchain.vectorstores import FAISS\n",
    "from ragatouille import RAGPretrainedModel\n",
    "from langchain_community.embeddings import HuggingFaceEmbeddings\n",
    "from langchain_community.vectorstores.utils import DistanceStrategy\n",
    "from langchain.docstore.document import Document as LangchainDocument\n",
    "\n",
    "pd.set_option(\"display.max_colwidth\", None)  # This will be helpful when visualizing retriever outputs"
   ]
  },
  {
   "cell_type": "code",
   "execution_count": null,
   "metadata": {},
   "outputs": [],
   "source": [
    "path = '/content/drive/MyDrive/mnlpredators-project/' # CHANGE THIS TO YOUR PATH - [NICOLAS]\n",
    "full_preference_pairs_path = path + 'data/full_preference_pairs.json'"
   ]
  },
  {
   "cell_type": "markdown",
   "metadata": {},
   "source": [
    "### Preference Pairs Dataset - Questions Extraction"
   ]
  },
  {
   "cell_type": "code",
   "execution_count": null,
   "metadata": {},
   "outputs": [],
   "source": [
    "full_preference_pairs = pd.read_json(full_preference_pairs_path, orient='records', lines=False)\n",
    "print(full_preference_pairs[:1])"
   ]
  },
  {
   "cell_type": "code",
   "execution_count": null,
   "metadata": {},
   "outputs": [],
   "source": [
    "# print('Number of questions:', len(full_preference_pairs))"
   ]
  },
  {
   "cell_type": "code",
   "execution_count": null,
   "metadata": {},
   "outputs": [],
   "source": [
    "# print 3 full questions\n",
    "# print(full_preference_pairs[['question_id','course_id','question_complete']].iloc[10])\n",
    "# print(full_preference_pairs[['question_id','course_id','question_complete']].iloc[20])\n",
    "# print(full_preference_pairs[['question_id','course_id','question_complete']].iloc[30])"
   ]
  },
  {
   "cell_type": "markdown",
   "metadata": {},
   "source": [
    "### Initialization of Reranker and Embedding Models"
   ]
  },
  {
   "cell_type": "code",
   "execution_count": null,
   "metadata": {},
   "outputs": [],
   "source": [
    "# Reranker model\n",
    "RERANKER = RAGPretrainedModel.from_pretrained(\"colbert-ir/colbertv2.0\")\n",
    "\n",
    "# Embedding model\n",
    "EMBEDDING_MODEL_NAME = \"thenlper/gte-small\""
   ]
  },
  {
   "cell_type": "code",
   "execution_count": null,
   "metadata": {},
   "outputs": [],
   "source": [
    "embedding_model = HuggingFaceEmbeddings(\n",
    "    model_name=EMBEDDING_MODEL_NAME,\n",
    "    multi_process=True,\n",
    "    # model_kwargs={\"device\": \"cpu\"},\n",
    "    model_kwargs={\"device\": \"cuda\"},\n",
    "    encode_kwargs={\"normalize_embeddings\": True},  # Set `True` for cosine similarity\n",
    ")"
   ]
  },
  {
   "cell_type": "markdown",
   "metadata": {},
   "source": [
    "### Loading of the Embedding Vector Database"
   ]
  },
  {
   "cell_type": "code",
   "execution_count": null,
   "metadata": {},
   "outputs": [],
   "source": [
    "KNOWLEDGE_VECTOR_DATABASE = FAISS.load_local(\"faiss_index_8_keywords\", embedding_model, allow_dangerous_deserialization=True)"
   ]
  },
  {
   "cell_type": "markdown",
   "metadata": {},
   "source": [
    "### Getting the Most Relevant Document "
   ]
  },
  {
   "cell_type": "code",
   "execution_count": null,
   "metadata": {},
   "outputs": [],
   "source": [
    "def get_most_relevant_document(\n",
    "    question: str,\n",
    "    knowledge_index: FAISS,\n",
    "    reranker: Optional[RAGPretrainedModel] = None,\n",
    "    num_retrieved_docs: int = 15,\n",
    "    num_docs_final: int = 5,\n",
    ") -> Tuple[str, List[LangchainDocument]]:\n",
    "    # Gather documents with retriever\n",
    "    # print(\"=> Retrieving documents...\")\n",
    "    relevant_docs = knowledge_index.similarity_search(query=question, k=num_retrieved_docs)\n",
    "    relevant_docs = [doc.page_content for doc in relevant_docs]  # Keep only the text\n",
    "\n",
    "    # Optionally rerank results\n",
    "    if reranker:\n",
    "        # print(\"=> Reranking documents...\")\n",
    "        relevant_docs = reranker.rerank(question, relevant_docs, k=num_docs_final)\n",
    "        relevant_docs = [doc[\"content\"] for doc in relevant_docs]\n",
    "\n",
    "    # relevant_docs = relevant_docs[:num_docs_final]\n",
    "    \n",
    "    # Randomly sample num_docs_final documents\n",
    "    if len(relevant_docs) > num_docs_final:\n",
    "        relevant_docs = random.sample(relevant_docs, num_docs_final)\n",
    "\n",
    "    # Build the final prompt\n",
    "    context = \"\\nExtracted documents:\\n\"\n",
    "    context += \"\".join([f\"\\nDocument {str(i)}:::\\n\" + doc for i, doc in enumerate(relevant_docs)])\n",
    "\n",
    "    return relevant_docs, context"
   ]
  },
  {
   "cell_type": "markdown",
   "metadata": {},
   "source": [
    "#### Testing the Relevance of the Document on a Simple Question"
   ]
  },
  {
   "cell_type": "code",
   "execution_count": null,
   "metadata": {},
   "outputs": [],
   "source": [
    "question = \"What is a good distance metric to be used when you want to compute the similarity between documents independent of their length?\"\n",
    "relevant_docs, context = get_most_relevant_document(question, KNOWLEDGE_VECTOR_DATABASE, reranker=RERANKER)\n",
    "print(\"The context is:\", context)"
   ]
  },
  {
   "cell_type": "markdown",
   "metadata": {},
   "source": [
    "### Generation of an Answer with GPT3.5"
   ]
  },
  {
   "cell_type": "code",
   "execution_count": null,
   "metadata": {},
   "outputs": [],
   "source": [
    "import gpt_wrapper\n",
    "from gpt_wrapper.chat import Chat\n",
    "from dotenv import load_dotenv\n",
    "load_dotenv()"
   ]
  },
  {
   "cell_type": "code",
   "execution_count": null,
   "metadata": {},
   "outputs": [],
   "source": [
    "model_args={\"temperature\": 0.7, \"top_p\": 0.7, \"presence_penalty\": 0.0, \"frequency_penalty\": 0.0, \"max_new_tokens\": 1024}"
   ]
  },
  {
   "cell_type": "code",
   "execution_count": null,
   "metadata": {},
   "outputs": [],
   "source": [
    "def initial_prompt(question, context):\n",
    "    prompt = f'''Answer the following question: \"{question}\".\n",
    "        Use the following context if you deem necessary: \"{context}\". \n",
    "        If the question has options, specify the ID of the correct answer (A, B, C or D).\n",
    "        Think step by step and explain your reasoning'''   \n",
    "    return prompt"
   ]
  },
  {
   "cell_type": "code",
   "execution_count": null,
   "metadata": {},
   "outputs": [],
   "source": [
    "def generate_predictions_zero_shot(questions, model_args\n",
    "):\n",
    "    predictions = []\n",
    "    instruction=\"You are a helpful educational AI bot that answers questions for a student. Keep your response truthful and concise\"\n",
    "    with jsonlines.open(f\"data_wikipedia/rag_dataset_gpt3.5.jsonl\", mode=\"w\") as writer:\n",
    "\n",
    "        for question_dict in tqdm(questions):\n",
    "            question = question_dict['question_complete']  # Extract question text\n",
    "            \n",
    "            chat_id = random.randrange(0, 2**16,)\n",
    "            chat = Chat.create(name=f\"{chat_id}\")\n",
    "            \n",
    "            # _, context = get_most_relevant_document(question, KNOWLEDGE_VECTOR_DATABASE, reranker=RERANKER)\n",
    "            _, context = get_most_relevant_document(question, KNOWLEDGE_VECTOR_DATABASE, reranker=None) # No reranker to have different documents\n",
    "            # print(\"The context is:\", context)\n",
    "            prompt = initial_prompt(question, context)\n",
    "            print(\"The final prompt is:\\n\", prompt)\n",
    "            \n",
    "            message = chat.ask(prompt, instruction=instruction, model_args=model_args)\n",
    "\n",
    "            preds = message.content.strip()\n",
    "            if preds:\n",
    "                pred = preds\n",
    "            else:\n",
    "                pred = \"none\"\n",
    "\n",
    "            print(\"Predicted answer:\", preds)\n",
    "            predictions.append(pred)\n",
    "\n",
    "            writer.write({\"course_id\": question_dict['course_id'], \"question_id\": question_dict['question_id'], \n",
    "                    \"question_body\": question, \"answer\": preds, \"chat_id\":chat_id})\n"
   ]
  },
  {
   "cell_type": "markdown",
   "metadata": {},
   "source": [
    "### Final Generation - Full Dataset of 1522 Questions (~2h30-3h00)"
   ]
  },
  {
   "cell_type": "code",
   "execution_count": null,
   "metadata": {},
   "outputs": [],
   "source": [
    "questions = full_preference_pairs.to_dict('records')\n",
    "generate_predictions_zero_shot(questions, model_args)"
   ]
  }
 ],
 "metadata": {
  "kernelspec": {
   "display_name": "modern_nlp",
   "language": "python",
   "name": "python3"
  },
  "language_info": {
   "codemirror_mode": {
    "name": "ipython",
    "version": 3
   },
   "file_extension": ".py",
   "mimetype": "text/x-python",
   "name": "python",
   "nbconvert_exporter": "python",
   "pygments_lexer": "ipython3",
   "version": "3.1.undefined"
  }
 },
 "nbformat": 4,
 "nbformat_minor": 2
}
